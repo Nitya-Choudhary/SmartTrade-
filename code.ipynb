{
  "nbformat": 4,
  "nbformat_minor": 0,
  "metadata": {
    "colab": {
      "provenance": []
    },
    "kernelspec": {
      "name": "python3",
      "display_name": "Python 3"
    },
    "language_info": {
      "name": "python"
    }
  },
  "cells": [
    {
      "cell_type": "code",
      "execution_count": 1,
      "metadata": {
        "colab": {
          "base_uri": "https://localhost:8080/"
        },
        "id": "nZHwVfYo5XSm",
        "outputId": "7783a729-4ee9-412a-a5ee-1cac55f587df"
      },
      "outputs": [
        {
          "output_type": "stream",
          "name": "stdout",
          "text": [
            "\u001b[31mERROR: Could not find a version that satisfies the requirement tensorflow==2.15 (from versions: 2.16.0rc0, 2.16.1, 2.16.2, 2.17.0rc0, 2.17.0rc1, 2.17.0, 2.17.1, 2.18.0rc0, 2.18.0rc1, 2.18.0rc2, 2.18.0, 2.18.1, 2.19.0rc0, 2.19.0, 2.19.1, 2.20.0rc0, 2.20.0)\u001b[0m\u001b[31m\n",
            "\u001b[0m\u001b[31mERROR: No matching distribution found for tensorflow==2.15\u001b[0m\u001b[31m\n",
            "\u001b[0m"
          ]
        }
      ],
      "source": [
        "!pip install yfinance tensorflow==2.15 scikit-learn matplotlib gradio --quiet\n"
      ]
    },
    {
      "cell_type": "code",
      "source": [
        "import yfinance as yf\n",
        "import numpy as np\n",
        "import pandas as pd\n",
        "import matplotlib.pyplot as plt\n",
        "from sklearn.preprocessing import MinMaxScaler\n",
        "from tensorflow.keras.models import Sequential\n",
        "from tensorflow.keras.layers import LSTM, Dense\n",
        "import gradio as gr\n",
        "\n",
        "def predict_stock(symbol):\n",
        "    try:\n",
        "        df = yf.download(symbol, start=\"2020-01-01\", end=\"2025-10-01\", progress=False)\n",
        "        if df is None or len(df) == 0:\n",
        "            return f\"Error: No data found for symbol '{symbol}'.\", None\n",
        "\n",
        "        data = df['Close'].values.reshape(-1, 1)\n",
        "        scaler = MinMaxScaler(feature_range=(0, 1))\n",
        "        scaled_data = scaler.fit_transform(data)\n",
        "\n",
        "        if len(scaled_data) < 61:\n",
        "            return f\"Error: Not enough data for '{symbol}'.\", None\n",
        "\n",
        "        X, y = [], []\n",
        "        for i in range(60, len(scaled_data)):\n",
        "            X.append(scaled_data[i-60:i, 0])\n",
        "            y.append(scaled_data[i, 0])\n",
        "        X, y = np.array(X), np.array(y)\n",
        "        X = np.reshape(X, (X.shape[0], X.shape[1], 1))\n",
        "\n",
        "        # LSTM model\n",
        "        model = Sequential([\n",
        "            LSTM(50, return_sequences=True, input_shape=(X.shape[1], 1)),\n",
        "            LSTM(50, return_sequences=False),\n",
        "            Dense(25),\n",
        "            Dense(1)\n",
        "        ])\n",
        "        model.compile(optimizer='adam', loss='mean_squared_error')\n",
        "        model.fit(X, y, batch_size=32, epochs=1, verbose=0)\n",
        "\n",
        "        # Predict next closing price\n",
        "        last_60 = scaled_data[-60:]\n",
        "        X_test = np.reshape(last_60, (1, 60, 1))\n",
        "        pred = model.predict(X_test)\n",
        "        pred_price = scaler.inverse_transform(pred)[0][0]\n",
        "\n",
        "        # Plot figure\n",
        "        fig, ax = plt.subplots(figsize=(8, 4))\n",
        "        ax.plot(df.index, df['Close'], label='Historical Close', color='cyan')\n",
        "        ax.set_title(f'{symbol} Stock Price Forecast')\n",
        "        ax.set_xlabel('Date')\n",
        "        ax.set_ylabel('Price (USD)')\n",
        "        ax.legend()\n",
        "        plt.tight_layout()\n",
        "\n",
        "        return f\"Predicted next closing price for {symbol}: ${pred_price:.2f}\", fig\n",
        "\n",
        "    except Exception as e:\n",
        "        return f\"Error: {str(e)}\", None\n"
      ],
      "metadata": {
        "id": "wXamFsi95cxA"
      },
      "execution_count": 2,
      "outputs": []
    },
    {
      "cell_type": "code",
      "source": [
        "with gr.Blocks(theme=gr.themes.Monochrome()) as demo:\n",
        "    gr.Markdown(\"## 📈 SmartTrade LSTM Stock Forecaster\\nPredicts next closing price using an LSTM model trained on historical data.\")\n",
        "    stock = gr.Textbox(label=\"Enter Stock Symbol (e.g. AAPL, TSLA, MSFT)\", value=\"AAPL\")\n",
        "    output_text = gr.Textbox(label=\"Forecast Summary\")\n",
        "    output_plot = gr.Plot(label=\"Forecast Chart\")\n",
        "\n",
        "    submit = gr.Button(\"Submit\", variant=\"primary\")\n",
        "    submit.click(fn=predict_stock, inputs=stock, outputs=[output_text, output_plot])\n",
        "\n",
        "demo.launch(debug=True)\n"
      ],
      "metadata": {
        "colab": {
          "base_uri": "https://localhost:8080/",
          "height": 645
        },
        "id": "WxT4ILg85-2m",
        "outputId": "cc7d099f-2603-4f71-ecbd-4bcd9f43d9a9"
      },
      "execution_count": null,
      "outputs": [
        {
          "output_type": "stream",
          "name": "stdout",
          "text": [
            "It looks like you are running Gradio on a hosted Jupyter notebook, which requires `share=True`. Automatically setting `share=True` (you can turn this off by setting `share=False` in `launch()` explicitly).\n",
            "\n",
            "Colab notebook detected. This cell will run indefinitely so that you can see errors and logs. To turn off, set debug=False in launch().\n",
            "* Running on public URL: https://282934bb9552764426.gradio.live\n",
            "\n",
            "This share link expires in 1 week. For free permanent hosting and GPU upgrades, run `gradio deploy` from the terminal in the working directory to deploy to Hugging Face Spaces (https://huggingface.co/spaces)\n"
          ]
        },
        {
          "output_type": "display_data",
          "data": {
            "text/plain": [
              "<IPython.core.display.HTML object>"
            ],
            "text/html": [
              "<div><iframe src=\"https://282934bb9552764426.gradio.live\" width=\"100%\" height=\"500\" allow=\"autoplay; camera; microphone; clipboard-read; clipboard-write;\" frameborder=\"0\" allowfullscreen></iframe></div>"
            ]
          },
          "metadata": {}
        }
      ]
    }
  ]
}